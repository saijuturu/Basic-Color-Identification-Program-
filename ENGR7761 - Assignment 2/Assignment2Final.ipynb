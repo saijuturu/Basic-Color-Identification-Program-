{
 "cells": [
  {
   "cell_type": "code",
   "execution_count": 30,
   "metadata": {},
   "outputs": [],
   "source": [
    "boundaries =[\n",
    "    ([200, 15, 17], [255, 56, 50]),  #Red\n",
    "    ([50, 50, 150], [88, 88, 255]),  #Blue\n",
    "    ([240, 230, 0], [255, 250, 10]),#Yellow#1\n",
    "    ([255, 190, 10], [255, 215, 20]),#Yellow#2\n",
    "    ([100, 120, 170], [130, 165, 210]),#Silver\n",
    "    ([110, 0, 5],[150, 10, 35]),#Maroon\n",
    "    ([160, 200, 10],[200, 250, 40]),#Lime\n",
    "    ([20, 160, 60],[50, 190, 90]),#Green                                                 \n",
    "    ([200, 120, 20],[250, 160, 50]),#Orange\n",
    "    ([160, 100, 50],[200, 150, 100]),#Brown\n",
    "    ([230, 155, 180],[255, 190, 210]),#Pink\n",
    "    ([180, 180, 220],[225, 210, 245]),#Lavendar\n",
    "    ([150, 50, 150],[180, 90, 180]),#Purple\n",
    "    \n",
    "]\n",
    "\n",
    "boundariescolours = [\n",
    "    \"Red\", \"Blue\", \"Yellow1\", \"Yellow2\", \"Silver\", \"Maroon\", \"Lime\", \"Green\", \"Orange\", \"Brown\", \"Pink\", \"Lavendar\", \"Purple\"\n",
    "]"
   ]
  },
  {
   "cell_type": "code",
   "execution_count": 31,
   "metadata": {},
   "outputs": [
    {
     "data": {
      "text/plain": [
       "{'divide': 'warn', 'over': 'ignore', 'under': 'ignore', 'invalid': 'warn'}"
      ]
     },
     "execution_count": 31,
     "metadata": {},
     "output_type": "execute_result"
    }
   ],
   "source": [
    "import numpy as np\n",
    "import cv2\n",
    "import matplotlib.pyplot as plt\n",
    "%matplotlib inline\n",
    "from PIL import Image\n",
    "import pylab\n",
    "                                               \n",
    "pic = Image.open('steve2.png')\n",
    "import xlsxwriter  \n",
    "width, height = pic.size\n",
    "\n",
    "new_pic_arr = []\n",
    "np.seterr(over='ignore')\n"
   ]
  },
  {
   "cell_type": "code",
   "execution_count": 32,
   "metadata": {},
   "outputs": [
    {
     "data": {
      "image/png": "[encoded data removed]",
      "text/plain": [
       "<PIL.PngImagePlugin.PngImageFile image mode=RGB size=100x100 at 0x21206B87A48>"
      ]
     },
     "execution_count": 32,
     "metadata": {},
     "output_type": "execute_result"
    }
   ],
   "source": [
    "pic"
   ]
  },
  {
   "cell_type": "code",
   "execution_count": 33,
   "metadata": {},
   "outputs": [
    {
     "name": "stdout",
     "output_type": "stream",
     "text": [
      "(100, 100, 3)\n"
     ]
    }
   ],
   "source": [
    "pic_arr = np.asarray(pic)\n",
    "new_pic_arr = pic_arr.copy()\n",
    "print(pic_arr.shape)\n",
    "                                                                                  \n",
    "blurred = cv2.GaussianBlur(pic_arr, (5,5), 0)\n",
    "lab = cv2.cvtColor(blurred, cv2.COLOR_BGR2LAB)"
   ]
  },
  {
   "cell_type": "code",
   "execution_count": 34,
   "metadata": {},
   "outputs": [],
   "source": [
    "threshold = 40\n",
    "for i in range(height):\n",
    "    for j in range(width):\n",
    "        current_pixel = pic_arr[i,j]\n",
    "        if i < height-1 and j < width-1:\n",
    "            next_pixel = pic_arr[i+1,j+1]                                      \n",
    "        \n",
    "        diff = [abs(int(next_pixel[0]) - int(current_pixel[0])), abs(int(next_pixel[1]) - int(current_pixel[1])), abs(int(next_pixel[2]) - int(current_pixel[2]))]\n",
    "        \n",
    "        if diff[0] >= threshold or diff[1] >= threshold or diff[2] >= threshold:\n",
    "            new_pic_arr[i,j] = [0,0 , 0]\n",
    "        else:\n",
    "            new_pic_arr[i,j] = pic_arr[i,j]"
   ]
  },
  {
   "cell_type": "code",
   "execution_count": 35,
   "metadata": {},
   "outputs": [
    {
     "data": {
      "text/plain": [
       "<matplotlib.image.AxesImage at 0x21206b85ec8>"
      ]
     },
     "execution_count": 35,
     "metadata": {},
     "output_type": "execute_result"
    },
    {
     "data": {
      "image/png": "[encoded data removed]",
      "text/plain": [
       "<Figure size 432x288 with 1 Axes>"
      ]
     },
     "metadata": {
      "needs_background": "light"
     },
     "output_type": "display_data"
    }
   ],
   "source": [
    "plt.imshow(new_pic_arr)                                                        "
   ]
  },
  {
   "cell_type": "code",
   "execution_count": 36,
   "metadata": {},
   "outputs": [
    {
     "name": "stdout",
     "output_type": "stream",
     "text": [
      "[89, 30]\n",
      "first pixel of Red at [78, 53]\n",
      "number of Red pixels is 400\n",
      "[29, 18]\n",
      "first pixel of Blue at [6, 15]\n",
      "number of Blue pixels is 2935\n",
      "[4, 5]\n",
      "first pixel of Yellow2 at [0, 0]\n",
      "number of Yellow2 pixels is 144\n",
      "[4, 35]\n",
      "first pixel of Silver at [0, 24]\n",
      "number of Silver pixels is 393\n",
      "[10, 91]\n",
      "first pixel of Maroon at [0, 67]\n",
      "number of Maroon pixels is 747\n",
      "[54, 2]\n",
      "first pixel of Lime at [39, 0]\n",
      "number of Lime pixels is 207\n",
      "[88, 73]\n",
      "first pixel of Orange at [74, 85]\n",
      "number of Orange pixels is 1188\n",
      "[58, 13]\n",
      "first pixel of Brown at [41, 14]\n",
      "number of Brown pixels is 782\n",
      "[63, 88]\n",
      "first pixel of Pink at [49, 71]\n",
      "number of Pink pixels is 841\n",
      "[59, 61]\n",
      "first pixel of Lavendar at [39, 45]\n",
      "number of Lavendar pixels is 1099\n",
      "[87, 10]\n",
      "first pixel of Purple at [69, 3]\n",
      "number of Purple pixels is 587\n",
      "These colours were found:  ['Red' 'Blue' 'Yellow2' 'Silver' 'Maroon' 'Lime' 'Orange' 'Brown' 'Pink'\n",
      " 'Lavendar' 'Purple']\n",
      "There were 11 colours found out of the possible 13\n"
     ]
    }
   ],
   "source": [
    "l = 0\n",
    "k = 0\n",
    "p = 0\n",
    "black = [0,0,0]\n",
    "\n",
    "occured = False\n",
    "found = False\n",
    "alreadyset = False\n",
    "firstpixel =[]\n",
    "secondpixel = []\n",
    "\n",
    "colours_found = []\n",
    "\n",
    "for (lower, upper) in boundaries:\n",
    "    \n",
    "    lower = np.array(lower, dtype = \"uint8\")\n",
    "    upper = np.array(upper, dtype = \"uint8\")\n",
    "    \n",
    "    mask = cv2.inRange(new_pic_arr, lower, upper)\n",
    "    output = cv2.bitwise_and(new_pic_arr, new_pic_arr, mask = mask)\n",
    "    output = cv2.cvtColor(output, cv2.COLOR_BGR2RGB)\n",
    "    #print(output)\n",
    "    #print(\"newline\")\n",
    "    \n",
    "    i = 0\n",
    "    j = 0\n",
    "    counter = 0\n",
    "    counter2 = 0\n",
    "    \n",
    "    \n",
    "    #--------------------find if color occurs in the image---------------#\n",
    "    for i in range(height):\n",
    "        for j in range(width):\n",
    "            #print(output[i,j])\n",
    "            comparison = output[i,j] == black\n",
    "            isequal = comparison.any()\n",
    "            \n",
    "            if not isequal:\n",
    "                if boundariescolours[l] not in colours_found:\n",
    "                    colours_found = np.append(colours_found, boundariescolours[l])\n",
    "    #----------------------/finding colours-------------------------------#\n",
    "    #----------------------finding first pixel----------------------------#\n",
    "    \n",
    "    for i in range(height):\n",
    "        for j in range(width):\n",
    "            \n",
    "            a = not(output[i,j] == black).all() \n",
    "            b = not(occured)\n",
    "            \n",
    "            if a and b:\n",
    "                occured = True\n",
    "                firstpixel = [i,j]\n",
    "    \n",
    "    #---------------------/finding first pixel----------------------------#\n",
    "    #----------------------findmidpoint-----------------------------------#\n",
    "    for i in range(height):\n",
    "            for j in range(width):\n",
    "                current_position = [i,j]\n",
    "                if not ((output[i,j] == [0,0,0]).all()):\n",
    "                    counter = counter + 1\n",
    "\n",
    "    halfway = counter/2\n",
    "    halfway = int(halfway)\n",
    "\n",
    "    for i in range(height):\n",
    "        for j in range(width):\n",
    "            current_position = [i,j]\n",
    "            if not ((output[i,j] == [0,0,0]).all()):\n",
    "                counter2 = counter2 + 1\n",
    "                if not(counter2 == halfway) :\n",
    "                    midpoint = []\n",
    "                else:\n",
    "                    if not(found):\n",
    "                        mid_point = current_position\n",
    "                        print(mid_point)\n",
    "                        counter2 = 0\n",
    "                        found = True\n",
    "     #---------------------/findmidpoint-----------------------------------#          \n",
    "         \n",
    "        \n",
    "        \n",
    "    \n",
    "        \n",
    "    input_img = cv2.cvtColor(pic_arr, cv2.COLOR_BGR2RGB)\n",
    "    \n",
    "        \n",
    "    resizedIn = cv2.resize(input_img, (height * 6, width  * 6), interpolation = cv2.INTER_AREA)\n",
    "    resizedOut = cv2.resize(output, (height * 6, width  * 6), interpolation = cv2.INTER_AREA)\n",
    "    \n",
    "    if boundariescolours[l] in colours_found:\n",
    "        cv2.putText(resizedIn,boundariescolours[l], (mid_point[1]*6, mid_point[0]*6), cv2.FONT_HERSHEY_SIMPLEX, 1, (0,0,0), 2, cv2.LINE_AA)\n",
    "    \n",
    "    cv2.imshow(\"images\", np.hstack([resizedIn, resizedOut]))\n",
    "    \n",
    "    if boundariescolours[l] in colours_found:\n",
    "        print(\"first pixel of\", boundariescolours[l], \"at\", firstpixel)\n",
    "        print(\"number of\", boundariescolours[l], \"pixels is\", counter)\n",
    "    \n",
    "    l = l + 1\n",
    "    occured = False\n",
    "    found = False\n",
    "    counter = 0 \n",
    "    cv2.waitKey(0)\n",
    "    \n",
    "    \n",
    "print(\"These colours were found: \", colours_found)\n",
    "print(\"There were\", len(colours_found), \"colours found out of the possible\", len(boundariescolours))\n",
    "cv2.destroyAllWindows()"
   ]
  },
  {
   "cell_type": "code",
   "execution_count": null,
   "metadata": {},
   "outputs": [],
   "source": []
  },
  {
   "cell_type": "code",
   "execution_count": null,
   "metadata": {},
   "outputs": [],
   "source": []
  },
  {
   "cell_type": "code",
   "execution_count": null,
   "metadata": {},
   "outputs": [],
   "source": []
  },
  {
   "cell_type": "code",
   "execution_count": null,
   "metadata": {},
   "outputs": [],
   "source": []
  },
  {
   "cell_type": "code",
   "execution_count": null,
   "metadata": {},
   "outputs": [],
   "source": []
  },
  {
   "cell_type": "code",
   "execution_count": null,
   "metadata": {},
   "outputs": [],
   "source": []
  },
  {
   "cell_type": "code",
   "execution_count": null,
   "metadata": {},
   "outputs": [],
   "source": []
  },
  {
   "cell_type": "code",
   "execution_count": null,
   "metadata": {},
   "outputs": [],
   "source": []
  },
  {
   "cell_type": "code",
   "execution_count": null,
   "metadata": {},
   "outputs": [],
   "source": []
  },
  {
   "cell_type": "code",
   "execution_count": null,
   "metadata": {},
   "outputs": [],
   "source": []
  },
  {
   "cell_type": "code",
   "execution_count": null,
   "metadata": {},
   "outputs": [],
   "source": []
  }
 ],
 "metadata": {
  "kernelspec": {
   "display_name": "Python 3",
   "language": "python",
   "name": "python3"
  },
  "language_info": {
   "codemirror_mode": {
    "name": "ipython",
    "version": 3
   },
   "file_extension": ".py",
   "mimetype": "text/x-python",
   "name": "python",
   "nbconvert_exporter": "python",
   "pygments_lexer": "ipython3",
   "version": "3.7.4"
  }
 },
 "nbformat": 4,
 "nbformat_minor": 4
}
